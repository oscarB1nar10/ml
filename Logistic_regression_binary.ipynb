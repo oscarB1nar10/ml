{
 "cells": [
  {
   "cell_type": "code",
   "execution_count": 1,
   "metadata": {},
   "outputs": [],
   "source": [
    "import numpy as np\n",
    "import matplotlib.pyplot as plt\n",
    "import pandas as pd\n",
    "# SKLearn\n",
    "import sklearn\n",
    "from sklearn.model_selection import train_test_split\n",
    "from sklearn.linear_model import LogisticRegression\n",
    "from sklearn.metrics import accuracy_score, confusion_matrix\n",
    "from sklearn import datasets"
   ]
  },
  {
   "cell_type": "code",
   "execution_count": 2,
   "metadata": {},
   "outputs": [],
   "source": [
    "# Import data set\n",
    "'''\n",
    "features shape: (150, 2)\n",
    "labels shape: (150, 1)\n",
    "'''\n",
    "iris = datasets.load_iris()\n",
    "features = iris.data[:,:2]\n",
    "labels = (iris.target != 0) * 1\n",
    "\n",
    "x_train, x_test, y_train, y_test = train_test_split(features, labels, test_size=0.5)\n",
    "x_training = x_train[np.logical_not(np.isnan(x_train))].reshape(75,2)\n",
    "y_training = y_train[np.logical_not(np.isnan(y_train))].reshape(75, 1)"
   ]
  },
  {
   "cell_type": "code",
   "execution_count": 3,
   "metadata": {},
   "outputs": [],
   "source": [
    "# Sigmoid function. That maps any real number to a range of [0-1]\n",
    "def sigmoid(z):\n",
    "    return 1 / (1 + np.exp(-z))"
   ]
  },
  {
   "cell_type": "code",
   "execution_count": 4,
   "metadata": {},
   "outputs": [],
   "source": [
    "# In this cawse we use 'x' instead of 'x_trainig' because this functions\n",
    "# could be used to predict the probability for new values (features)\n",
    "def predict_probs(x, weights):\n",
    "    return sigmoid(np.dot(x, weights))"
   ]
  },
  {
   "cell_type": "code",
   "execution_count": 5,
   "metadata": {},
   "outputs": [],
   "source": [
    "def predict(x, weights, threshold=0.5):\n",
    "    return predict_probs(x, weights) >= threshold"
   ]
  },
  {
   "cell_type": "code",
   "execution_count": 6,
   "metadata": {},
   "outputs": [],
   "source": [
    "# Cost function\n",
    "def cost_evaluation(hipotesis, y_training, weights, bias):\n",
    "    number_of_training_rows = np.shape(y_training)[0]\n",
    "    \n",
    "    #print('Hipotesis: {}'.format(hipotesis))\n",
    "    #print('1 - y_training: {}'.format((1 - y_training)))\n",
    "    #print('(1 - hipotesis) + bias: {}'.format((1 - hipotesis)))\n",
    "    #print('np.log((1 - hipotesis)): {}'.format(np.log((1 - hipotesis))))\n",
    "    #print('bias: {}'.format(bias))\n",
    "    #print('np.log((1 - hipotesis) + bias): {}'.format(np.log((1 - hipotesis))))\n",
    "    \n",
    "    #Take the error when label=1 (y=1)\n",
    "    class1_cost = -y_training*np.log(hipotesis + bias)\n",
    "    \n",
    "    # Calculate the cost when the label=0 (y=0)\n",
    "    class2_cost  = (1 - y_training)*np.log((1 - hipotesis) + bias)\n",
    "    \n",
    "     # Take the sum of both costs\n",
    "    cost_contribution = class1_cost - class2_cost\n",
    "    \n",
    "    # Take the average cost\n",
    "    cost = np.sum(cost_contribution) / number_of_training_rows\n",
    "    \n",
    "    return cost"
   ]
  },
  {
   "cell_type": "code",
   "execution_count": 7,
   "metadata": {},
   "outputs": [],
   "source": [
    "# Gradient descent\n",
    "def gradient_descent(hipotesis, x_training, y_training, weights, learning_rate, bias):\n",
    "    number_of_training_rows = np.shape(y_training)[0]\n",
    "    \n",
    "    #print('np.transpose(x_training) shape: {}'.format(np.transpose(x_training).shape))\n",
    "    #print('hipotesis shape: {}'.format(hipotesis.shape))\n",
    "    #print('y_training shape: {}'.format(y_training.shape))\n",
    "    #print('hipotesis - y_training shape: {}'.format((hipotesis - y_training).shape))\n",
    "    \n",
    "    gradient = np.dot(np.transpose(x_training), (hipotesis - y_training)) / number_of_training_rows\n",
    "    \n",
    "    #print('gradient shape: {}'.format(gradient.shape))\n",
    "    db = np.sum(hipotesis - y_training) / number_of_training_rows\n",
    "    \n",
    "    # Update weights\n",
    "    weights -= learning_rate * gradient\n",
    "    #bias -= (learning_rate * db) \n",
    "    \n",
    "    return weights\n",
    "    "
   ]
  },
  {
   "cell_type": "code",
   "execution_count": 8,
   "metadata": {},
   "outputs": [],
   "source": [
    "def training(x_training, y_training, weights, learning_rate, iterations, bias):\n",
    "    cost_history = []\n",
    "    \n",
    "    for i in range(iterations):\n",
    "        z = np.dot(x_training, weights)\n",
    "        #print('z shape: {}'.format(z.shape))\n",
    "        hipotesis = sigmoid(z)\n",
    "        \n",
    "        # Gradient descent to update weights\n",
    "        weights = gradient_descent(hipotesis, x_training, y_training, weights, learning_rate, bias)\n",
    "        \n",
    "        # Evaluate the cost with the new values of weights\n",
    "        cost = cost_evaluation(hipotesis, y_training, weights, bias)\n",
    "        cost_history.append(cost)\n",
    "        \n",
    "        # Log Progress\n",
    "        if i % 1000 == 0:\n",
    "            print(\"iterations: {} cost: {}\".format(i,cost))\n",
    "            \n",
    "    return weights, cost_history\n",
    "        \n",
    "        "
   ]
  },
  {
   "cell_type": "code",
   "execution_count": 9,
   "metadata": {},
   "outputs": [
    {
     "name": "stdout",
     "output_type": "stream",
     "text": [
      "x_training shape: (75, 2)\n",
      "weights shape: (2, 1)\n",
      "iterations: 0 cost: 2.235918619887442\n",
      "iterations: 1000 cost: 0.6176073700961126\n",
      "iterations: 2000 cost: 0.5718617520849595\n",
      "iterations: 3000 cost: 0.5316806759003466\n",
      "iterations: 4000 cost: 0.4959878762206058\n",
      "iterations: 5000 cost: 0.4643174856431971\n",
      "iterations: 6000 cost: 0.4362073145031771\n",
      "iterations: 7000 cost: 0.4112207689911645\n",
      "iterations: 8000 cost: 0.3889594405839579\n",
      "iterations: 9000 cost: 0.3690684628226519\n",
      "iterations: 10000 cost: 0.3512369700010635\n",
      "iterations: 11000 cost: 0.3351956368426016\n",
      "iterations: 12000 cost: 0.32071274078269685\n",
      "iterations: 13000 cost: 0.30758968870351117\n",
      "iterations: 14000 cost: 0.2956565666033434\n",
      "iterations: 15000 cost: 0.28476800816676473\n",
      "iterations: 16000 cost: 0.27479951271177677\n",
      "iterations: 17000 cost: 0.2656442460738326\n",
      "iterations: 18000 cost: 0.25721030575617915\n",
      "iterations: 19000 cost: 0.24941840682553046\n",
      "iterations: 20000 cost: 0.24219993603898415\n",
      "iterations: 21000 cost: 0.2354953213106027\n",
      "iterations: 22000 cost: 0.22925266751725976\n",
      "iterations: 23000 cost: 0.22342661530552713\n",
      "iterations: 24000 cost: 0.21797738563007135\n",
      "iterations: 25000 cost: 0.2128699785354091\n",
      "iterations: 26000 cost: 0.20807349987675805\n",
      "iterations: 27000 cost: 0.203560594162271\n",
      "iterations: 28000 cost: 0.19930696549756835\n",
      "iterations: 29000 cost: 0.1952909717845966\n",
      "iterations: 30000 cost: 0.19149327995026658\n",
      "iterations: 31000 cost: 0.18789657213831415\n",
      "iterations: 32000 cost: 0.18448529456697202\n",
      "iterations: 33000 cost: 0.18124544220295286\n",
      "iterations: 34000 cost: 0.17816437358663056\n",
      "iterations: 35000 cost: 0.1752306511125043\n",
      "iterations: 36000 cost: 0.17243390286294477\n",
      "iterations: 37000 cost: 0.16976470274454195\n",
      "iterations: 38000 cost: 0.16721446621170352\n",
      "iterations: 39000 cost: 0.16477535930311066\n",
      "iterations: 40000 cost: 0.16244021908066447\n",
      "iterations: 41000 cost: 0.16020248386186864\n",
      "iterations: 42000 cost: 0.15805613188659526\n",
      "iterations: 43000 cost: 0.15599562726716293\n",
      "iterations: 44000 cost: 0.1540158722441668\n",
      "iterations: 45000 cost: 0.1521121649155902\n",
      "iterations: 46000 cost: 0.15028016172843467\n",
      "iterations: 47000 cost: 0.1485158441244184\n",
      "iterations: 48000 cost: 0.14681548881756293\n",
      "iterations: 49000 cost: 0.14517564125440974\n",
      "weights: [[ 2.05908184]\n",
      " [-3.46309153]]\n"
     ]
    }
   ],
   "source": [
    "# Call training\n",
    "m,n = features.shape\n",
    "weights = np.ones(n) # Inital colomn vector of theta\n",
    "weights = weights.reshape(2,1)\n",
    "learning_rate = 0.001\n",
    "iterations = 50000\n",
    "bias = 0.0001\n",
    "print('x_training shape: {}'.format(x_training.shape))\n",
    "print('weights shape: {}'.format(weights.shape))\n",
    "weights, cost_history = training(x_training, y_training, weights, learning_rate, iterations, bias)\n",
    "print('weights: {}'.format(weights))\n",
    "#print('cost_history: {}'.format(cost_history))"
   ]
  },
  {
   "cell_type": "code",
   "execution_count": 10,
   "metadata": {},
   "outputs": [
    {
     "name": "stdout",
     "output_type": "stream",
     "text": [
      "[[ True]\n",
      " [False]\n",
      " [False]\n",
      " [False]\n",
      " [ True]\n",
      " [ True]\n",
      " [ True]\n",
      " [False]\n",
      " [ True]\n",
      " [ True]\n",
      " [False]\n",
      " [False]\n",
      " [ True]\n",
      " [ True]\n",
      " [ True]\n",
      " [False]\n",
      " [False]\n",
      " [ True]\n",
      " [ True]\n",
      " [ True]\n",
      " [ True]\n",
      " [ True]\n",
      " [ True]\n",
      " [ True]\n",
      " [ True]\n",
      " [False]\n",
      " [ True]\n",
      " [ True]\n",
      " [ True]\n",
      " [False]\n",
      " [ True]\n",
      " [False]\n",
      " [False]\n",
      " [False]\n",
      " [False]\n",
      " [ True]\n",
      " [ True]\n",
      " [False]\n",
      " [False]\n",
      " [ True]\n",
      " [ True]\n",
      " [ True]\n",
      " [False]\n",
      " [ True]\n",
      " [ True]\n",
      " [ True]\n",
      " [ True]\n",
      " [ True]\n",
      " [False]\n",
      " [False]\n",
      " [False]\n",
      " [ True]\n",
      " [False]\n",
      " [ True]\n",
      " [ True]\n",
      " [ True]\n",
      " [ True]\n",
      " [False]\n",
      " [False]\n",
      " [False]\n",
      " [ True]\n",
      " [ True]\n",
      " [ True]\n",
      " [False]\n",
      " [ True]\n",
      " [False]\n",
      " [ True]\n",
      " [ True]\n",
      " [False]\n",
      " [False]\n",
      " [ True]\n",
      " [False]\n",
      " [ True]\n",
      " [ True]\n",
      " [ True]]\n"
     ]
    }
   ],
   "source": [
    "# Prediction\n",
    "prediction = predict(x_test, weights)\n",
    "print(prediction)"
   ]
  },
  {
   "cell_type": "code",
   "execution_count": 11,
   "metadata": {},
   "outputs": [
    {
     "data": {
      "text/plain": [
       "Text(0, 0.5, 'cost')"
      ]
     },
     "execution_count": 11,
     "metadata": {},
     "output_type": "execute_result"
    },
    {
     "data": {
      "image/png": "[encoded data removed]",
      "text/plain": [
       "<Figure size 432x288 with 1 Axes>"
      ]
     },
     "metadata": {
      "needs_background": "light"
     },
     "output_type": "display_data"
    }
   ],
   "source": [
    "# Visualice the cost fuction for each iteration in the batch gradient descend algorithm\n",
    "iterations_range = list(range(0,iterations))\n",
    "plt.plot(iterations_range, cost_history, label='linear')  # Plot some data on the (implicit) axes.\n",
    "plt.xlabel('iterations')\n",
    "plt.ylabel('cost')"
   ]
  },
  {
   "cell_type": "code",
   "execution_count": 12,
   "metadata": {},
   "outputs": [
    {
     "name": "stdout",
     "output_type": "stream",
     "text": [
      "p: [ True False False False  True  True  True False  True  True False False\n",
      "  True  True  True False False  True  True  True  True  True  True  True\n",
      "  True False  True  True  True False  True False False False False  True\n",
      "  True False False  True  True  True False  True  True  True  True  True\n",
      " False False False  True False  True  True  True  True False False False\n",
      "  True  True  True False  True False  True  True False False  True False\n",
      "  True  True  True]\n",
      "t: [ True False False False  True  True  True False  True  True False False\n",
      "  True  True  True False False  True  True  True  True  True  True  True\n",
      "  True False  True  True  True False  True False False False False  True\n",
      "  True False False  True  True  True False  True  True  True  True  True\n",
      " False False False  True False  True  True  True  True False False False\n",
      "  True  True  True False  True False  True  True False False  True False\n",
      "  True  True  True]\n",
      "1.0\n"
     ]
    }
   ],
   "source": [
    "# Evaluate the accuracy of the model\n",
    "y_test_boolean = y_test >= 0.5\n",
    "\n",
    "print(\"p: {}\".format(prediction.ravel()))\n",
    "print(\"t: {}\".format(y_test_boolean))\n",
    "\n",
    "print(accuracy_score(y_test_boolean, prediction))"
   ]
  },
  {
   "cell_type": "code",
   "execution_count": 13,
   "metadata": {},
   "outputs": [
    {
     "name": "stdout",
     "output_type": "stream",
     "text": [
      "[1 0 0 0 1 1 1 0 1 1 0 0 1 1 1 0 0 1 1 1 1 1 1 1 1 0 1 1 1 0 1 0 0 0 0 1 1\n",
      " 0 0 1 1 1 0 1 1 1 1 1 0 0 0 1 0 1 1 1 1 0 0 0 1 1 1 0 1 0 1 1 0 0 1 0 1 1\n",
      " 1]\n",
      "1.0\n",
      "1.0\n"
     ]
    },
    {
     "name": "stderr",
     "output_type": "stream",
     "text": [
      "C:\\Users\\osciv\\anaconda3\\lib\\site-packages\\sklearn\\utils\\validation.py:72: DataConversionWarning: A column-vector y was passed when a 1d array was expected. Please change the shape of y to (n_samples, ), for example using ravel().\n",
      "  return f(**kwargs)\n"
     ]
    }
   ],
   "source": [
    "# With sklearn\n",
    "lr_model = LogisticRegression(solver = 'lbfgs')\n",
    "\n",
    "# Train model\n",
    "lr_model.fit(x_training, y_training)\n",
    "\n",
    "# Predict for\n",
    "lr_preds = lr_model.predict(x_test)\n",
    "#lr_preds = lr_preds.tolist()\n",
    "\n",
    "lr_preds_boolean = lr_preds >= 0.5\n",
    "\n",
    "print(lr_preds)\n",
    "\n",
    "print(accuracy_score(y_test_boolean.ravel(), lr_preds_boolean.ravel()))\n",
    "\n",
    "# Use score method to get accuracy of model\n",
    "score = lr_model.score(x_training, y_training)\n",
    "print(score)"
   ]
  },
  {
   "cell_type": "code",
   "execution_count": null,
   "metadata": {},
   "outputs": [],
   "source": []
  },
  {
   "cell_type": "code",
   "execution_count": null,
   "metadata": {},
   "outputs": [],
   "source": []
  }
 ],
 "metadata": {
  "kernelspec": {
   "display_name": "Python 3",
   "language": "python",
   "name": "python3"
  },
  "language_info": {
   "codemirror_mode": {
    "name": "ipython",
    "version": 3
   },
   "file_extension": ".py",
   "mimetype": "text/x-python",
   "name": "python",
   "nbconvert_exporter": "python",
   "pygments_lexer": "ipython3",
   "version": "3.8.5"
  }
 },
 "nbformat": 4,
 "nbformat_minor": 4
}
