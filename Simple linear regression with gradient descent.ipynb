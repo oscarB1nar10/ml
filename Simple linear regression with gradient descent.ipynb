{
 "cells": [
  {
   "cell_type": "markdown",
   "metadata": {},
   "source": [
    "$\\theta{_j} = \\theta{_j} - \\alpha \\frac{\\partial J} {\\partial \\theta{}_j} (\\theta{_0}, \\theta{_1},...,\\theta{_n})$"
   ]
  },
  {
   "cell_type": "code",
   "execution_count": 1,
   "metadata": {},
   "outputs": [],
   "source": [
    "import matplotlib.pyplot as plt\n",
    "import numpy as np\n",
    "import pandas as pd"
   ]
  },
  {
   "cell_type": "code",
   "execution_count": 2,
   "metadata": {},
   "outputs": [],
   "source": [
    "def prepare_country_stats(oecd_bli, gdp_per_capita):\n",
    "    oecd_bli = oecd_bli[oecd_bli[\"INEQUALITY\"] == \"TOT\"]\n",
    "    oecd_bli = oecd_bli.pivot(index=\"Country\", columns=\"Indicator\", values=\"Value\")\n",
    "    gdp_per_capita.rename(columns={\"2015\":\"GDP per capita\"}, inplace=True)\n",
    "    gdp_per_capita.set_index(\"Country\", inplace=True)\n",
    "    full_country_stats = pd.merge(left=oecd_bli, right=gdp_per_capita,\n",
    "                                 left_index = True, right_index = True)\n",
    "    full_country_stats.sort_values(by=\"GDP per capita\", inplace= True)\n",
    "    remove_indices = [0,1,6,8,33,34,35]\n",
    "    keep_indices = list(set(range(36)) - set(remove_indices))\n",
    "    return full_country_stats[[\"GDP per capita\",\"Life satisfaction\"]].iloc[keep_indices]"
   ]
  },
  {
   "cell_type": "code",
   "execution_count": 5,
   "metadata": {},
   "outputs": [],
   "source": [
    "# Load the data\n",
    "oecd_bli = pd.read_csv(\"data_sets\\oecd_bli_2015.csv\", thousands=',')\n",
    "gdp_per_capita = pd.read_csv(\"data_sets\\gdp_per_capita.csv\", thousands=\",\", delimiter='\\t',\n",
    "                            encoding='latin1', na_values=\"n/a\")"
   ]
  },
  {
   "cell_type": "code",
   "execution_count": 6,
   "metadata": {},
   "outputs": [
    {
     "data": {
      "text/html": [
       "<div>\n",
       "<style scoped>\n",
       "    .dataframe tbody tr th:only-of-type {\n",
       "        vertical-align: middle;\n",
       "    }\n",
       "\n",
       "    .dataframe tbody tr th {\n",
       "        vertical-align: top;\n",
       "    }\n",
       "\n",
       "    .dataframe thead th {\n",
       "        text-align: right;\n",
       "    }\n",
       "</style>\n",
       "<table border=\"1\" class=\"dataframe\">\n",
       "  <thead>\n",
       "    <tr style=\"text-align: right;\">\n",
       "      <th></th>\n",
       "      <th>Country</th>\n",
       "      <th>Subject Descriptor</th>\n",
       "      <th>Units</th>\n",
       "      <th>Scale</th>\n",
       "      <th>Country/Series-specific Notes</th>\n",
       "      <th>2015</th>\n",
       "      <th>Estimates Start After</th>\n",
       "    </tr>\n",
       "  </thead>\n",
       "  <tbody>\n",
       "    <tr>\n",
       "      <th>0</th>\n",
       "      <td>Afghanistan</td>\n",
       "      <td>Gross domestic product per capita, current prices</td>\n",
       "      <td>U.S. dollars</td>\n",
       "      <td>Units</td>\n",
       "      <td>See notes for:  Gross domestic product, curren...</td>\n",
       "      <td>599.994</td>\n",
       "      <td>2013.0</td>\n",
       "    </tr>\n",
       "    <tr>\n",
       "      <th>1</th>\n",
       "      <td>Albania</td>\n",
       "      <td>Gross domestic product per capita, current prices</td>\n",
       "      <td>U.S. dollars</td>\n",
       "      <td>Units</td>\n",
       "      <td>See notes for:  Gross domestic product, curren...</td>\n",
       "      <td>3995.383</td>\n",
       "      <td>2010.0</td>\n",
       "    </tr>\n",
       "    <tr>\n",
       "      <th>2</th>\n",
       "      <td>Algeria</td>\n",
       "      <td>Gross domestic product per capita, current prices</td>\n",
       "      <td>U.S. dollars</td>\n",
       "      <td>Units</td>\n",
       "      <td>See notes for:  Gross domestic product, curren...</td>\n",
       "      <td>4318.135</td>\n",
       "      <td>2014.0</td>\n",
       "    </tr>\n",
       "    <tr>\n",
       "      <th>3</th>\n",
       "      <td>Angola</td>\n",
       "      <td>Gross domestic product per capita, current prices</td>\n",
       "      <td>U.S. dollars</td>\n",
       "      <td>Units</td>\n",
       "      <td>See notes for:  Gross domestic product, curren...</td>\n",
       "      <td>4100.315</td>\n",
       "      <td>2014.0</td>\n",
       "    </tr>\n",
       "    <tr>\n",
       "      <th>4</th>\n",
       "      <td>Antigua and Barbuda</td>\n",
       "      <td>Gross domestic product per capita, current prices</td>\n",
       "      <td>U.S. dollars</td>\n",
       "      <td>Units</td>\n",
       "      <td>See notes for:  Gross domestic product, curren...</td>\n",
       "      <td>14414.302</td>\n",
       "      <td>2011.0</td>\n",
       "    </tr>\n",
       "  </tbody>\n",
       "</table>\n",
       "</div>"
      ],
      "text/plain": [
       "               Country                                 Subject Descriptor  \\\n",
       "0          Afghanistan  Gross domestic product per capita, current prices   \n",
       "1              Albania  Gross domestic product per capita, current prices   \n",
       "2              Algeria  Gross domestic product per capita, current prices   \n",
       "3               Angola  Gross domestic product per capita, current prices   \n",
       "4  Antigua and Barbuda  Gross domestic product per capita, current prices   \n",
       "\n",
       "          Units  Scale                      Country/Series-specific Notes  \\\n",
       "0  U.S. dollars  Units  See notes for:  Gross domestic product, curren...   \n",
       "1  U.S. dollars  Units  See notes for:  Gross domestic product, curren...   \n",
       "2  U.S. dollars  Units  See notes for:  Gross domestic product, curren...   \n",
       "3  U.S. dollars  Units  See notes for:  Gross domestic product, curren...   \n",
       "4  U.S. dollars  Units  See notes for:  Gross domestic product, curren...   \n",
       "\n",
       "        2015  Estimates Start After  \n",
       "0    599.994                 2013.0  \n",
       "1   3995.383                 2010.0  \n",
       "2   4318.135                 2014.0  \n",
       "3   4100.315                 2014.0  \n",
       "4  14414.302                 2011.0  "
      ]
     },
     "execution_count": 6,
     "metadata": {},
     "output_type": "execute_result"
    }
   ],
   "source": [
    "# Brief description of the dataset\n",
    "gdp_per_capita.head(5)"
   ]
  },
  {
   "cell_type": "code",
   "execution_count": 7,
   "metadata": {},
   "outputs": [],
   "source": [
    " # Prepare the data\n",
    "country_stats = prepare_country_stats(oecd_bli, gdp_per_capita)"
   ]
  },
  {
   "cell_type": "code",
   "execution_count": 8,
   "metadata": {},
   "outputs": [],
   "source": [
    "# Build the pices for gradient descent\n",
    "normalized_country_stats=(country_stats-country_stats.mean())/country_stats.std()\n",
    "ones = np.ones((country_stats[country_stats.columns[0]].count(),1)) # Ones vector with size equal to data set rows\n",
    "X = normalized_country_stats[\"GDP per capita\"].to_frame()\n",
    "# Append an extra column of ones to the fearute vector (X)\n",
    "X.insert(loc=0, column='X0', value=ones)\n",
    "Y = normalized_country_stats[\"Life satisfaction\"]\n",
    "alpha = 0.001 # Learning rate (gradient descent step)\n",
    "m,n = X.shape\n",
    "theta = np.ones(n) # Inital colomn vector of theta \n",
    "num_of_iterations = 6000"
   ]
  },
  {
   "cell_type": "code",
   "execution_count": 9,
   "metadata": {},
   "outputs": [],
   "source": [
    "def cost_function(X, Y, B):\n",
    "    m = len(Y)\n",
    "    J = np.sum((X.dot(B) - Y) ** 2)/(2 * m)\n",
    "    return J"
   ]
  },
  {
   "cell_type": "code",
   "execution_count": 10,
   "metadata": {},
   "outputs": [],
   "source": [
    "# Gradient descent algoritm.\n",
    "# 1) Calculate the hypothesis value for each row(B0x0 + B1x1 + B2X2 +,...+BnXn)\n",
    "# 2) Calculate the loss (diference between hypothesis and y value of data set)\n",
    "# 3) Gradient calculation\n",
    "# 4) Add a new record of the cost\n",
    "def batch_gradient_descent(x, y, theta, alpha, m, iterations_num):\n",
    "    \n",
    "    cost_history = [0] * iterations_num\n",
    "    \n",
    "    for i in range(0, iterations_num):\n",
    "        # Hypothesis value\n",
    "        hypotesis = np.dot(x, theta)\n",
    "        #print(\"hypotesis: {}\".format(hypotesis))\n",
    "        \n",
    "        # Loss\n",
    "        loss = hypotesis - y\n",
    "        #print(\"loss: {}\".format(loss))\n",
    "        \n",
    "        # Gradient Calculation\n",
    "        gradient = np.dot(np.transpose(x), loss) / m\n",
    "        #print(\"gradient: {}\".format(gradient))\n",
    "        \n",
    "        # Vectorization way to update theta values\n",
    "        theta = theta - alpha * gradient\n",
    "        #theta[0] = theta[0] - alpha * gradient[0] # Update theta0\n",
    "        #theta[1] = theta[1] - alpha * gradient[1] # Update theta1\n",
    "        \n",
    "        # New Cost Value\n",
    "        cost = cost_function(x, y, theta)\n",
    "        cost_history[i] = cost\n",
    "        \n",
    "    return theta, cost_history"
   ]
  },
  {
   "cell_type": "code",
   "execution_count": 11,
   "metadata": {},
   "outputs": [
    {
     "name": "stdout",
     "output_type": "stream",
     "text": [
      "[0.00247132 0.85743032]\n"
     ]
    }
   ],
   "source": [
    "thetas_result, cost_history = batch_gradient_descent(X, Y, theta, alpha, m, num_of_iterations)\n",
    "print(thetas_result)"
   ]
  },
  {
   "cell_type": "code",
   "execution_count": 12,
   "metadata": {},
   "outputs": [],
   "source": [
    "# For plot purposes let's calculate all the \"calculated\" y for given x\n",
    "y_calculated = X.dot(thetas_result)\n",
    "X_for_plot = X\n",
    "Y_for_plot = y_calculated"
   ]
  },
  {
   "cell_type": "code",
   "execution_count": 13,
   "metadata": {},
   "outputs": [
    {
     "data": {
      "image/png": "[encoded data removed]",
      "text/plain": [
       "<Figure size 432x288 with 1 Axes>"
      ]
     },
     "metadata": {
      "needs_background": "light"
     },
     "output_type": "display_data"
    }
   ],
   "source": [
    "# Visualize our prediction line in the data set\n",
    "normalized_country_stats.plot(kind=\"scatter\", x=\"GDP per capita\", y=\"Life satisfaction\")\n",
    "plt.plot(X_for_plot[\"GDP per capita\"], Y_for_plot, 'r')\n",
    "plt.ylabel('Predicted Life satisfaction')\n",
    "plt.xlabel('GDP per capita')\n",
    "plt.show()"
   ]
  },
  {
   "cell_type": "code",
   "execution_count": 14,
   "metadata": {},
   "outputs": [],
   "source": [
    "def predit_value(x_new, theta):\n",
    "    predicted_value = theta[0] + theta[1]*x_new\n",
    "    return predicted_value"
   ]
  },
  {
   "cell_type": "code",
   "execution_count": 15,
   "metadata": {},
   "outputs": [
    {
     "name": "stdout",
     "output_type": "stream",
     "text": [
      "life_satisfaction_mean 6.493103448275863, life_satisfaction_std: 0.8396134461264043\n",
      "-0.62990215204203\n",
      "0.38923481865121135\n"
     ]
    }
   ],
   "source": [
    "# Predict the output (Life satisfaction) for the X input = 22587 GDP and 40000\n",
    "country_stats_mean_GDP, life_satisfaction_mean = country_stats.mean()\n",
    "country_stats_std, life_satisfaction_std = country_stats.std()\n",
    "print(\"life_satisfaction_mean {}, life_satisfaction_std: {}\".format(life_satisfaction_mean, life_satisfaction_std))\n",
    "print(predit_value(((22587 - country_stats_mean_GDP)/country_stats_std), thetas_result))\n",
    "print(predit_value(((40000 - country_stats_mean_GDP)/country_stats_std), thetas_result))"
   ]
  },
  {
   "cell_type": "code",
   "execution_count": 16,
   "metadata": {},
   "outputs": [
    {
     "name": "stdout",
     "output_type": "stream",
     "text": [
      "first predicted value without normalization: 5.964229131677416\n",
      "second predicted value without normalization: 6.819910235715993\n"
     ]
    }
   ],
   "source": [
    "first_predicted_value = predit_value(((22587 - country_stats_mean_GDP)/country_stats_std), thetas_result)\n",
    "print(\"first predicted value without normalization: {}\".format((first_predicted_value * life_satisfaction_std) +\n",
    "                                                               life_satisfaction_mean))\n",
    "\n",
    "second_predicted_value = predit_value(((40000 - country_stats_mean_GDP)/country_stats_std), thetas_result)\n",
    "print(\"second predicted value without normalization: {}\".format((second_predicted_value * life_satisfaction_std) +\n",
    "                                                               life_satisfaction_mean))"
   ]
  },
  {
   "cell_type": "code",
   "execution_count": 17,
   "metadata": {},
   "outputs": [
    {
     "data": {
      "text/plain": [
       "Text(0, 0.5, 'cost')"
      ]
     },
     "execution_count": 17,
     "metadata": {},
     "output_type": "execute_result"
    },
    {
     "data": {
      "image/png": "[encoded data removed]",
      "text/plain": [
       "<Figure size 432x288 with 1 Axes>"
      ]
     },
     "metadata": {
      "needs_background": "light"
     },
     "output_type": "display_data"
    }
   ],
   "source": [
    "# Visualice the cost fuction for each iteration in the batch gradient descend algorithm\n",
    "iterations = list(range(0,num_of_iterations))\n",
    "plt.plot(iterations, cost_history, label='linear')  # Plot some data on the (implicit) axes.\n",
    "plt.xlabel('iterations')\n",
    "plt.ylabel('cost')"
   ]
  },
  {
   "cell_type": "code",
   "execution_count": null,
   "metadata": {},
   "outputs": [],
   "source": []
  }
 ],
 "metadata": {
  "kernelspec": {
   "display_name": "Python 3",
   "language": "python",
   "name": "python3"
  },
  "language_info": {
   "codemirror_mode": {
    "name": "ipython",
    "version": 3
   },
   "file_extension": ".py",
   "mimetype": "text/x-python",
   "name": "python",
   "nbconvert_exporter": "python",
   "pygments_lexer": "ipython3",
   "version": "3.8.5"
  }
 },
 "nbformat": 4,
 "nbformat_minor": 4
}
